{
  "nbformat": 4,
  "nbformat_minor": 0,
  "metadata": {
    "colab": {
      "name": "58053_CS7DataPreparation_TSDC.ipynb",
      "provenance": []
    },
    "kernelspec": {
      "name": "python3",
      "display_name": "Python 3"
    },
    "language_info": {
      "name": "python"
    }
  },
  "cells": [
    {
      "cell_type": "code",
      "metadata": {
        "id": "lkqwNkwBOfXX"
      },
      "source": [
        "import pandas as pd\n",
        "import numpy as np\n",
        "import seaborn as sns\n",
        "import matplotlib.pyplot as plt"
      ],
      "execution_count": 1,
      "outputs": []
    },
    {
      "cell_type": "code",
      "metadata": {
        "id": "6p5v2AvPO6wK"
      },
      "source": [
        "df = pd.read_csv(\"MetroManilaCases.csv\")\n"
      ],
      "execution_count": 8,
      "outputs": []
    },
    {
      "cell_type": "code",
      "metadata": {
        "id": "Sf0b6DjvPAHp"
      },
      "source": [
        "dfcopy = df.copy()\n"
      ],
      "execution_count": 10,
      "outputs": []
    },
    {
      "cell_type": "code",
      "metadata": {
        "colab": {
          "base_uri": "https://localhost:8080/",
          "height": 516
        },
        "id": "EKw_S5aOS-rD",
        "outputId": "1f7f88cf-84a3-451a-d217-ad5aed76c66d"
      },
      "source": [
        "dfcopy.isna()"
      ],
      "execution_count": 11,
      "outputs": [
        {
          "output_type": "execute_result",
          "data": {
            "text/html": [
              "<div>\n",
              "<style scoped>\n",
              "    .dataframe tbody tr th:only-of-type {\n",
              "        vertical-align: middle;\n",
              "    }\n",
              "\n",
              "    .dataframe tbody tr th {\n",
              "        vertical-align: top;\n",
              "    }\n",
              "\n",
              "    .dataframe thead th {\n",
              "        text-align: right;\n",
              "    }\n",
              "</style>\n",
              "<table border=\"1\" class=\"dataframe\">\n",
              "  <thead>\n",
              "    <tr style=\"text-align: right;\">\n",
              "      <th></th>\n",
              "      <th>City</th>\n",
              "      <th>Cumulative Total Confirmed Cases</th>\n",
              "      <th>Cumulative Total Recovered Cases</th>\n",
              "      <th>Cumulative Total Expired Cases</th>\n",
              "      <th>Current Active Cases</th>\n",
              "      <th>Case Fatality Rate</th>\n",
              "    </tr>\n",
              "  </thead>\n",
              "  <tbody>\n",
              "    <tr>\n",
              "      <th>0</th>\n",
              "      <td>False</td>\n",
              "      <td>False</td>\n",
              "      <td>False</td>\n",
              "      <td>False</td>\n",
              "      <td>False</td>\n",
              "      <td>False</td>\n",
              "    </tr>\n",
              "    <tr>\n",
              "      <th>1</th>\n",
              "      <td>False</td>\n",
              "      <td>False</td>\n",
              "      <td>False</td>\n",
              "      <td>False</td>\n",
              "      <td>False</td>\n",
              "      <td>False</td>\n",
              "    </tr>\n",
              "    <tr>\n",
              "      <th>2</th>\n",
              "      <td>False</td>\n",
              "      <td>False</td>\n",
              "      <td>False</td>\n",
              "      <td>False</td>\n",
              "      <td>False</td>\n",
              "      <td>False</td>\n",
              "    </tr>\n",
              "    <tr>\n",
              "      <th>3</th>\n",
              "      <td>False</td>\n",
              "      <td>False</td>\n",
              "      <td>False</td>\n",
              "      <td>False</td>\n",
              "      <td>False</td>\n",
              "      <td>False</td>\n",
              "    </tr>\n",
              "    <tr>\n",
              "      <th>4</th>\n",
              "      <td>False</td>\n",
              "      <td>False</td>\n",
              "      <td>False</td>\n",
              "      <td>False</td>\n",
              "      <td>False</td>\n",
              "      <td>False</td>\n",
              "    </tr>\n",
              "    <tr>\n",
              "      <th>5</th>\n",
              "      <td>False</td>\n",
              "      <td>False</td>\n",
              "      <td>False</td>\n",
              "      <td>False</td>\n",
              "      <td>False</td>\n",
              "      <td>False</td>\n",
              "    </tr>\n",
              "    <tr>\n",
              "      <th>6</th>\n",
              "      <td>False</td>\n",
              "      <td>False</td>\n",
              "      <td>False</td>\n",
              "      <td>False</td>\n",
              "      <td>False</td>\n",
              "      <td>False</td>\n",
              "    </tr>\n",
              "    <tr>\n",
              "      <th>7</th>\n",
              "      <td>False</td>\n",
              "      <td>False</td>\n",
              "      <td>False</td>\n",
              "      <td>False</td>\n",
              "      <td>False</td>\n",
              "      <td>False</td>\n",
              "    </tr>\n",
              "    <tr>\n",
              "      <th>8</th>\n",
              "      <td>False</td>\n",
              "      <td>False</td>\n",
              "      <td>False</td>\n",
              "      <td>False</td>\n",
              "      <td>False</td>\n",
              "      <td>False</td>\n",
              "    </tr>\n",
              "    <tr>\n",
              "      <th>9</th>\n",
              "      <td>False</td>\n",
              "      <td>False</td>\n",
              "      <td>False</td>\n",
              "      <td>False</td>\n",
              "      <td>False</td>\n",
              "      <td>False</td>\n",
              "    </tr>\n",
              "    <tr>\n",
              "      <th>10</th>\n",
              "      <td>False</td>\n",
              "      <td>False</td>\n",
              "      <td>False</td>\n",
              "      <td>False</td>\n",
              "      <td>False</td>\n",
              "      <td>False</td>\n",
              "    </tr>\n",
              "    <tr>\n",
              "      <th>11</th>\n",
              "      <td>False</td>\n",
              "      <td>False</td>\n",
              "      <td>False</td>\n",
              "      <td>False</td>\n",
              "      <td>False</td>\n",
              "      <td>False</td>\n",
              "    </tr>\n",
              "    <tr>\n",
              "      <th>12</th>\n",
              "      <td>False</td>\n",
              "      <td>False</td>\n",
              "      <td>False</td>\n",
              "      <td>False</td>\n",
              "      <td>False</td>\n",
              "      <td>False</td>\n",
              "    </tr>\n",
              "    <tr>\n",
              "      <th>13</th>\n",
              "      <td>False</td>\n",
              "      <td>False</td>\n",
              "      <td>False</td>\n",
              "      <td>False</td>\n",
              "      <td>False</td>\n",
              "      <td>False</td>\n",
              "    </tr>\n",
              "    <tr>\n",
              "      <th>14</th>\n",
              "      <td>False</td>\n",
              "      <td>False</td>\n",
              "      <td>False</td>\n",
              "      <td>False</td>\n",
              "      <td>False</td>\n",
              "      <td>False</td>\n",
              "    </tr>\n",
              "    <tr>\n",
              "      <th>15</th>\n",
              "      <td>False</td>\n",
              "      <td>False</td>\n",
              "      <td>False</td>\n",
              "      <td>False</td>\n",
              "      <td>False</td>\n",
              "      <td>False</td>\n",
              "    </tr>\n",
              "  </tbody>\n",
              "</table>\n",
              "</div>"
            ],
            "text/plain": [
              "     City  ...  Case Fatality Rate\n",
              "0   False  ...               False\n",
              "1   False  ...               False\n",
              "2   False  ...               False\n",
              "3   False  ...               False\n",
              "4   False  ...               False\n",
              "5   False  ...               False\n",
              "6   False  ...               False\n",
              "7   False  ...               False\n",
              "8   False  ...               False\n",
              "9   False  ...               False\n",
              "10  False  ...               False\n",
              "11  False  ...               False\n",
              "12  False  ...               False\n",
              "13  False  ...               False\n",
              "14  False  ...               False\n",
              "15  False  ...               False\n",
              "\n",
              "[16 rows x 6 columns]"
            ]
          },
          "metadata": {
            "tags": []
          },
          "execution_count": 11
        }
      ]
    },
    {
      "cell_type": "code",
      "metadata": {
        "colab": {
          "base_uri": "https://localhost:8080/",
          "height": 516
        },
        "id": "BFojZoN3UNog",
        "outputId": "6a0382a2-471c-4399-d8a5-ce2df5caeb0b"
      },
      "source": [
        "dfcopy.rename(columns= {'Cumulative Total Confirmed Cases':'Confirmed_Cases','Cumulative Total Recovered Cases':'Recovered_Cases','Cumulative Total Expired Cases':'Expired_Cases','Current Active Cases':'Active_Cases','Case Fatality Rate':'Fatality_Rate'}, inplace=True)\n",
        "dfcopy"
      ],
      "execution_count": 12,
      "outputs": [
        {
          "output_type": "execute_result",
          "data": {
            "text/html": [
              "<div>\n",
              "<style scoped>\n",
              "    .dataframe tbody tr th:only-of-type {\n",
              "        vertical-align: middle;\n",
              "    }\n",
              "\n",
              "    .dataframe tbody tr th {\n",
              "        vertical-align: top;\n",
              "    }\n",
              "\n",
              "    .dataframe thead th {\n",
              "        text-align: right;\n",
              "    }\n",
              "</style>\n",
              "<table border=\"1\" class=\"dataframe\">\n",
              "  <thead>\n",
              "    <tr style=\"text-align: right;\">\n",
              "      <th></th>\n",
              "      <th>City</th>\n",
              "      <th>Confirmed_Cases</th>\n",
              "      <th>Recovered_Cases</th>\n",
              "      <th>Expired_Cases</th>\n",
              "      <th>Active_Cases</th>\n",
              "      <th>Fatality_Rate</th>\n",
              "    </tr>\n",
              "  </thead>\n",
              "  <tbody>\n",
              "    <tr>\n",
              "      <th>0</th>\n",
              "      <td>City of San Juan</td>\n",
              "      <td>8494</td>\n",
              "      <td>8081</td>\n",
              "      <td>116</td>\n",
              "      <td>297</td>\n",
              "      <td>1.37%</td>\n",
              "    </tr>\n",
              "    <tr>\n",
              "      <th>1</th>\n",
              "      <td>City of Navotas</td>\n",
              "      <td>10620</td>\n",
              "      <td>10276</td>\n",
              "      <td>158</td>\n",
              "      <td>186</td>\n",
              "      <td>1.49%</td>\n",
              "    </tr>\n",
              "    <tr>\n",
              "      <th>2</th>\n",
              "      <td>City of Muntinlupa</td>\n",
              "      <td>12403</td>\n",
              "      <td>11698</td>\n",
              "      <td>159</td>\n",
              "      <td>546</td>\n",
              "      <td>1.28%</td>\n",
              "    </tr>\n",
              "    <tr>\n",
              "      <th>3</th>\n",
              "      <td>City of Las Piñas</td>\n",
              "      <td>15675</td>\n",
              "      <td>14682</td>\n",
              "      <td>193</td>\n",
              "      <td>800</td>\n",
              "      <td>1.23%</td>\n",
              "    </tr>\n",
              "    <tr>\n",
              "      <th>4</th>\n",
              "      <td>Taguig City</td>\n",
              "      <td>30617</td>\n",
              "      <td>29539</td>\n",
              "      <td>205</td>\n",
              "      <td>873</td>\n",
              "      <td>0.67%</td>\n",
              "    </tr>\n",
              "    <tr>\n",
              "      <th>5</th>\n",
              "      <td>City of Mandaluyong</td>\n",
              "      <td>18671</td>\n",
              "      <td>17702</td>\n",
              "      <td>219</td>\n",
              "      <td>750</td>\n",
              "      <td>1.17%</td>\n",
              "    </tr>\n",
              "    <tr>\n",
              "      <th>6</th>\n",
              "      <td>City of Malabon</td>\n",
              "      <td>12775</td>\n",
              "      <td>12199</td>\n",
              "      <td>221</td>\n",
              "      <td>355</td>\n",
              "      <td>1.73%</td>\n",
              "    </tr>\n",
              "    <tr>\n",
              "      <th>7</th>\n",
              "      <td>Pasay City</td>\n",
              "      <td>21912</td>\n",
              "      <td>21149</td>\n",
              "      <td>226</td>\n",
              "      <td>537</td>\n",
              "      <td>1.03%</td>\n",
              "    </tr>\n",
              "    <tr>\n",
              "      <th>8</th>\n",
              "      <td>City of Parañaque</td>\n",
              "      <td>24767</td>\n",
              "      <td>23693</td>\n",
              "      <td>230</td>\n",
              "      <td>844</td>\n",
              "      <td>0.93%</td>\n",
              "    </tr>\n",
              "    <tr>\n",
              "      <th>9</th>\n",
              "      <td>City of Marikina</td>\n",
              "      <td>16374</td>\n",
              "      <td>15426</td>\n",
              "      <td>268</td>\n",
              "      <td>680</td>\n",
              "      <td>1.64%</td>\n",
              "    </tr>\n",
              "    <tr>\n",
              "      <th>10</th>\n",
              "      <td>City of Valenzuela</td>\n",
              "      <td>18164</td>\n",
              "      <td>16970</td>\n",
              "      <td>304</td>\n",
              "      <td>890</td>\n",
              "      <td>1.67%</td>\n",
              "    </tr>\n",
              "    <tr>\n",
              "      <th>11</th>\n",
              "      <td>City of Makati</td>\n",
              "      <td>29290</td>\n",
              "      <td>27852</td>\n",
              "      <td>368</td>\n",
              "      <td>1070</td>\n",
              "      <td>1.26%</td>\n",
              "    </tr>\n",
              "    <tr>\n",
              "      <th>12</th>\n",
              "      <td>City of Pasig</td>\n",
              "      <td>30726</td>\n",
              "      <td>28655</td>\n",
              "      <td>549</td>\n",
              "      <td>1522</td>\n",
              "      <td>1.79%</td>\n",
              "    </tr>\n",
              "    <tr>\n",
              "      <th>13</th>\n",
              "      <td>Caloocan City</td>\n",
              "      <td>32664</td>\n",
              "      <td>30288</td>\n",
              "      <td>587</td>\n",
              "      <td>1789</td>\n",
              "      <td>1.80%</td>\n",
              "    </tr>\n",
              "    <tr>\n",
              "      <th>14</th>\n",
              "      <td>City of Manila</td>\n",
              "      <td>58430</td>\n",
              "      <td>55551</td>\n",
              "      <td>1045</td>\n",
              "      <td>1834</td>\n",
              "      <td>1.79%</td>\n",
              "    </tr>\n",
              "    <tr>\n",
              "      <th>15</th>\n",
              "      <td>Quezon City</td>\n",
              "      <td>89989</td>\n",
              "      <td>85038</td>\n",
              "      <td>1175</td>\n",
              "      <td>3776</td>\n",
              "      <td>1.31%</td>\n",
              "    </tr>\n",
              "  </tbody>\n",
              "</table>\n",
              "</div>"
            ],
            "text/plain": [
              "                   City  Confirmed_Cases  ...  Active_Cases  Fatality_Rate\n",
              "0      City of San Juan             8494  ...           297          1.37%\n",
              "1       City of Navotas            10620  ...           186          1.49%\n",
              "2    City of Muntinlupa            12403  ...           546          1.28%\n",
              "3     City of Las Piñas            15675  ...           800          1.23%\n",
              "4           Taguig City            30617  ...           873          0.67%\n",
              "5   City of Mandaluyong            18671  ...           750          1.17%\n",
              "6       City of Malabon            12775  ...           355          1.73%\n",
              "7            Pasay City            21912  ...           537          1.03%\n",
              "8     City of Parañaque            24767  ...           844          0.93%\n",
              "9      City of Marikina            16374  ...           680          1.64%\n",
              "10   City of Valenzuela            18164  ...           890          1.67%\n",
              "11       City of Makati            29290  ...          1070          1.26%\n",
              "12        City of Pasig            30726  ...          1522          1.79%\n",
              "13        Caloocan City            32664  ...          1789          1.80%\n",
              "14       City of Manila            58430  ...          1834          1.79%\n",
              "15          Quezon City            89989  ...          3776          1.31%\n",
              "\n",
              "[16 rows x 6 columns]"
            ]
          },
          "metadata": {
            "tags": []
          },
          "execution_count": 12
        }
      ]
    },
    {
      "cell_type": "code",
      "metadata": {
        "colab": {
          "base_uri": "https://localhost:8080/"
        },
        "id": "GZEn4kEXV1or",
        "outputId": "c9041222-2be6-4c0e-d967-25c86f07ee6f"
      },
      "source": [
        "dfcopy['Confirmed_Cases'].mean()"
      ],
      "execution_count": 13,
      "outputs": [
        {
          "output_type": "execute_result",
          "data": {
            "text/plain": [
              "26973.1875"
            ]
          },
          "metadata": {
            "tags": []
          },
          "execution_count": 13
        }
      ]
    },
    {
      "cell_type": "code",
      "metadata": {
        "colab": {
          "base_uri": "https://localhost:8080/"
        },
        "id": "C8LiVzW0WL08",
        "outputId": "df101e84-18bb-459b-8d1a-33d2fad1b843"
      },
      "source": [
        "dfcopy['Recovered_Cases'].mean()"
      ],
      "execution_count": 14,
      "outputs": [
        {
          "output_type": "execute_result",
          "data": {
            "text/plain": [
              "25549.9375"
            ]
          },
          "metadata": {
            "tags": []
          },
          "execution_count": 14
        }
      ]
    },
    {
      "cell_type": "code",
      "metadata": {
        "colab": {
          "base_uri": "https://localhost:8080/"
        },
        "id": "miTYRKQHWPmh",
        "outputId": "ce0d924b-5638-4c08-80d5-c9d66d291ff4"
      },
      "source": [
        "dfcopy['Expired_Cases'].mean()"
      ],
      "execution_count": 15,
      "outputs": [
        {
          "output_type": "execute_result",
          "data": {
            "text/plain": [
              "376.4375"
            ]
          },
          "metadata": {
            "tags": []
          },
          "execution_count": 15
        }
      ]
    },
    {
      "cell_type": "code",
      "metadata": {
        "colab": {
          "base_uri": "https://localhost:8080/",
          "height": 298
        },
        "id": "C97tts2YXi23",
        "outputId": "0a1127fe-9af8-444b-cc6a-2fc293fa9fdc"
      },
      "source": [
        "sns.lineplot(data=dfcopy, x='Active_Cases', y='City')"
      ],
      "execution_count": 18,
      "outputs": [
        {
          "output_type": "execute_result",
          "data": {
            "text/plain": [
              "<matplotlib.axes._subplots.AxesSubplot at 0x7fd119f87b50>"
            ]
          },
          "metadata": {
            "tags": []
          },
          "execution_count": 18
        },
        {
          "output_type": "display_data",
          "data": {
            "image/png": "[encoded data removed]",
            "text/plain": [
              "<Figure size 432x288 with 1 Axes>"
            ]
          },
          "metadata": {
            "tags": [],
            "needs_background": "light"
          }
        }
      ]
    },
    {
      "cell_type": "code",
      "metadata": {
        "colab": {
          "base_uri": "https://localhost:8080/",
          "height": 283
        },
        "id": "RqDJPneGXyGZ",
        "outputId": "447fc73d-1c53-44bb-ef13-5c8c1aa9409a"
      },
      "source": [
        "dfcopy['Active_Cases'].plot()"
      ],
      "execution_count": 20,
      "outputs": [
        {
          "output_type": "execute_result",
          "data": {
            "text/plain": [
              "<matplotlib.axes._subplots.AxesSubplot at 0x7fd1199e0610>"
            ]
          },
          "metadata": {
            "tags": []
          },
          "execution_count": 20
        },
        {
          "output_type": "display_data",
          "data": {
            "image/png": "[encoded data removed]",
            "text/plain": [
              "<Figure size 432x288 with 1 Axes>"
            ]
          },
          "metadata": {
            "tags": [],
            "needs_background": "light"
          }
        }
      ]
    }
  ]
}